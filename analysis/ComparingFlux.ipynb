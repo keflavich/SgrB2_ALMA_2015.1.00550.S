{
 "cells": [
  {
   "cell_type": "code",
   "execution_count": 1,
   "id": "723e02b2-7b2b-4adb-a36f-dbab105c3050",
   "metadata": {},
   "outputs": [],
   "source": [
    "from astropy.table import QTable, Table, Column\n",
    "from astropy.coordinates import SkyCoord\n",
    "import astropy.units as u\n",
    "from photutils.aperture import SkyEllipticalAperture\n",
    "from astropy.io import fits\n",
    "import matplotlib.pyplot as plt\n",
    "from astropy.wcs import WCS\n",
    "from matplotlib.colors import SymLogNorm\n",
    "from pylab import figure, cm\n",
    "from astropy import visualization\n",
    "from photutils.aperture import aperture_photometry\n",
    "import numpy as np\n",
    "from radio_beam import Beam\n",
    "from scipy.integrate import quad"
   ]
  },
  {
   "cell_type": "code",
   "execution_count": 2,
   "id": "0dd92a11-acdb-4036-9f91-a5f9385aeae3",
   "metadata": {},
   "outputs": [],
   "source": [
    "base = '/orange/adamginsburg/sgrb2/NB/catalog/'\n",
    "lowres = Table.read(base+'lowres_cat.txt', format='ipac')\n",
    "lowres = lowres[lowres['sum']!=0]\n",
    "catB3 = Table.read(base+'catalogB3_review_Nazar.csv', format='ascii')\n",
    "catB6 = Table.read(base+'catalogB6_review_Nazar.csv', format='ascii')\n",
    "catB3_new=catB3[catB3['score']!=0]\n",
    "catB6_new=catB6[catB6['score']!=0]"
   ]
  },
  {
   "cell_type": "code",
   "execution_count": 3,
   "id": "d278f145-21e2-4756-9e10-32fd3ec4b41c",
   "metadata": {},
   "outputs": [],
   "source": [
    "def cats_matched_flux(my_cat,G_cat):\n",
    "    blrr = []\n",
    "    for i in range(len(G_cat)):\n",
    "        if G_cat['name'][i] in my_cat['G2018']:\n",
    "            blrr += [True]\n",
    "        else:\n",
    "            blrr += [False]\n",
    "    G_cat_matched = G_cat[blrr]\n",
    "    \n",
    "    blrr = []\n",
    "    for i in range(len(my_cat)):\n",
    "        if my_cat['G2018'][i] in G_cat_matched['name']:\n",
    "            blrr += [True]\n",
    "        else:\n",
    "            blrr += [False]\n",
    "    my_cat_matched = my_cat[blrr]\n",
    "    \n",
    "\n",
    "    G_cat_matched.sort('name')\n",
    "    my_cat_matched.sort('G2018')\n",
    "    \n",
    "    tempar = []\n",
    "    prev = 0\n",
    "    for i in range(len(my_cat_matched)):\n",
    "        if prev == my_cat_matched['G2018'][i]:\n",
    "            tempar[-1]=tempar[-1]+my_cat_matched['flux'][i]\n",
    "        else:\n",
    "            tempar += [my_cat_matched['flux'][i]]\n",
    "        prev = my_cat_matched['G2018'][i]\n",
    "\n",
    "    return tempar, G_cat_matched['peak'], my_cat_matched, G_cat_matched"
   ]
  },
  {
   "cell_type": "code",
   "execution_count": 4,
   "id": "e83d6706-8b2e-48b6-b350-487154d1d3d3",
   "metadata": {},
   "outputs": [
    {
     "name": "stderr",
     "output_type": "stream",
     "text": [
      "/blue/adamginsburg/adamginsburg/repos/astropy/astropy/table/column.py:329: FutureWarning: elementwise comparison failed; returning scalar instead, but in the future will perform elementwise comparison\n",
      "  result = getattr(super(Column, self), op)(other)\n",
      "/home/adamginsburg/.local/lib/python3.9/site-packages/numpy/ma/core.py:4076: FutureWarning: elementwise comparison failed; returning scalar instead, but in the future will perform elementwise comparison\n",
      "  check = compare(sdata, odata)\n"
     ]
    }
   ],
   "source": [
    "my_cat_flux, G_cat_peak, my_cat, G_cat = cats_matched_flux(catB3_new,lowres)"
   ]
  },
  {
   "cell_type": "code",
   "execution_count": 5,
   "id": "b6df6349-cfed-41d3-8054-47589ffebfc1",
   "metadata": {},
   "outputs": [],
   "source": [
    "path = base+'NB3.fits'\n",
    "path1 = base+'MB3.fits'\n",
    "path2 = base+'SgrB2_selfcal_full_TCTE7m_selfcal6_ampphase_taylorterms_multiscale_deeper_mask1.5mJy.image.tt0.pbcor.fits'\n",
    "hdu = fits.open(path)[0]\n",
    "hdu1 = fits.open(path1)[0]\n",
    "hdu2 = fits.open(path2)[0]"
   ]
  },
  {
   "cell_type": "code",
   "execution_count": 6,
   "id": "5c5626d8-d7d9-471f-9e1d-823074771a19",
   "metadata": {},
   "outputs": [
    {
     "name": "stderr",
     "output_type": "stream",
     "text": [
      "WARNING: FITSFixedWarning: 'datfix' made the change 'Set MJD-OBS to 58014.867874 from DATE-OBS'. [astropy.wcs.wcs]\n",
      "WARNING: FITSFixedWarning: 'obsfix' made the change 'Set OBSGEO-L to   -67.754929 from OBSGEO-[XYZ].\n",
      "Set OBSGEO-B to   -23.022886 from OBSGEO-[XYZ].\n",
      "Set OBSGEO-H to     5053.796 from OBSGEO-[XYZ]'. [astropy.wcs.wcs]\n",
      "WARNING: FITSFixedWarning: 'datfix' made the change 'Set MJD-OBS to 58014.867646 from DATE-OBS'. [astropy.wcs.wcs]\n"
     ]
    }
   ],
   "source": [
    "data = u.Quantity(hdu.data, unit=hdu.header['BUNIT'])\n",
    "data1 = u.Quantity(hdu1.data, unit=hdu1.header['BUNIT'])\n",
    "#data = data[1000:-1000,1000:-1000]\n",
    "#hdu.header.update(wcs[1000:-1000,1000:-1000].to_header())\n",
    "\n",
    "#data1 = data1[1000:-1000,1000:-1000]\n",
    "#hdu1.header.update(wcs1[1000:-1000,1000:-1000].to_header())\n",
    "wcs = WCS(hdu.header)\n",
    "wcs1 = WCS(hdu1.header)"
   ]
  },
  {
   "cell_type": "code",
   "execution_count": 7,
   "id": "574af00e-d061-41b9-9d38-6e9958cc0542",
   "metadata": {},
   "outputs": [],
   "source": [
    "positions = SkyCoord(G_cat['RA'],G_cat['Dec'], unit='deg', frame='fk5')\n",
    "#aper = SkyEllipticalAperture(positions, hdu2.header['BMAJ']*u.deg, hdu2.header['BMIN']*u.deg,hdu2.header['BPA']*u.deg)\n",
    "fctr = 1/(8*np.log(2))\n",
    "Bmaj = hdu2.header['BMAJ']*u.deg*np.sqrt(fctr)\n",
    "Bmin = hdu2.header['BMIN']*u.deg*np.sqrt(fctr)\n",
    "aper = SkyEllipticalAperture(positions, Bmaj,Bmin,hdu2.header['BPA']*u.deg)\n",
    "\n",
    "\n",
    "Bmaj = hdu.header['BMAJ']*u.deg*np.sqrt(fctr)\n",
    "Bmin = hdu.header['BMIN']*u.deg*np.sqrt(fctr)\n",
    "pix_maj = Bmaj/(hdu.header['CDELT2']*u.deg)\n",
    "pix_min = Bmin/(hdu.header['CDELT2']*u.deg)\n",
    "ppb = 2*np.pi*pix_maj*pix_min\n",
    "\n",
    "Bmaj1 = hdu1.header['BMAJ']*u.deg*np.sqrt(fctr)\n",
    "Bmin1 = hdu1.header['BMIN']*u.deg*np.sqrt(fctr)\n",
    "pix_maj1 = Bmaj1/(hdu1.header['CDELT2']*u.deg)\n",
    "pix_min1 = Bmin1/(hdu1.header['CDELT2']*u.deg)\n",
    "ppb1 = 2*np.pi*pix_maj1*pix_min1"
   ]
  },
  {
   "cell_type": "code",
   "execution_count": 8,
   "id": "dbe35da1-638e-4af7-b28d-eb0e3ec179f6",
   "metadata": {},
   "outputs": [
    {
     "data": {
      "text/latex": [
       "$0.23003142 \\; \\mathrm{{}^{\\prime\\prime}}$"
      ],
      "text/plain": [
       "<Quantity 0.23003142 arcsec>"
      ]
     },
     "execution_count": 8,
     "metadata": {},
     "output_type": "execute_result"
    }
   ],
   "source": [
    "(hdu2.header['BMAJ']*u.deg*np.sqrt(fctr)).to(u.arcsec)"
   ]
  },
  {
   "cell_type": "code",
   "execution_count": 9,
   "id": "91519d1c-17d8-4cf8-a363-c65868a783bb",
   "metadata": {},
   "outputs": [
    {
     "data": {
      "text/latex": [
       "$0.1968271 \\; \\mathrm{{}^{\\prime\\prime}}$"
      ],
      "text/plain": [
       "<Quantity 0.1968271 arcsec>"
      ]
     },
     "execution_count": 9,
     "metadata": {},
     "output_type": "execute_result"
    }
   ],
   "source": [
    "(hdu2.header['BMIN']*u.deg*np.sqrt(fctr)).to(u.arcsec)"
   ]
  },
  {
   "cell_type": "code",
   "execution_count": 10,
   "id": "1af2fc21-684f-4a03-8af5-caaca1d57d4c",
   "metadata": {},
   "outputs": [
    {
     "data": {
      "text/plain": [
       "68.30076599121"
      ]
     },
     "execution_count": 10,
     "metadata": {},
     "output_type": "execute_result"
    }
   ],
   "source": [
    "hdu2.header['BPA']"
   ]
  },
  {
   "cell_type": "code",
   "execution_count": 11,
   "id": "d6531859-9ef6-4600-a2e0-09d852412a23",
   "metadata": {},
   "outputs": [
    {
     "data": {
      "text/latex": [
       "$20.162089 \\; \\mathrm{}$"
      ],
      "text/plain": [
       "<Quantity 20.16208874>"
      ]
     },
     "execution_count": 11,
     "metadata": {},
     "output_type": "execute_result"
    }
   ],
   "source": [
    "ppb"
   ]
  },
  {
   "cell_type": "code",
   "execution_count": 12,
   "id": "4febe7f3-5f32-48b6-b0f5-1f928fa4d74e",
   "metadata": {},
   "outputs": [
    {
     "data": {
      "text/latex": [
       "$20.124073 \\; \\mathrm{}$"
      ],
      "text/plain": [
       "<Quantity 20.12407329>"
      ]
     },
     "execution_count": 12,
     "metadata": {},
     "output_type": "execute_result"
    }
   ],
   "source": [
    "ppb1"
   ]
  },
  {
   "cell_type": "code",
   "execution_count": 13,
   "id": "96f38db7-cf47-4d78-b14d-f6d38501836c",
   "metadata": {},
   "outputs": [],
   "source": [
    "def beam_area(hdu):\n",
    "    factor = 2*np.sqrt(2*np.log(2))\n",
    "    major = hdu.header['BMAJ']*u.deg/factor\n",
    "    minor = hdu.header['BMIN']*u.deg/factor\n",
    "    area = np.pi*major*minor*2\n",
    "    return area"
   ]
  },
  {
   "cell_type": "code",
   "execution_count": 14,
   "id": "cc219098-a30b-4df0-ac3f-4a9c5e04a192",
   "metadata": {},
   "outputs": [],
   "source": [
    "my_beam = Beam.from_fits_header(hdu.header)\n",
    "my_beam1 = Beam.from_fits_header(hdu1.header)\n",
    "my_beam2 = Beam.from_fits_header(hdu2.header)"
   ]
  },
  {
   "cell_type": "code",
   "execution_count": 15,
   "id": "23e349a7-8233-4030-867b-a4d9e70d5132",
   "metadata": {},
   "outputs": [],
   "source": [
    "ba = beam_area(hdu).to(u.sr)\n",
    "ba1 = beam_area(hdu1).to(u.sr)\n",
    "ba2 = beam_area(hdu2).to(u.sr)\n",
    "bNc = ba/ba2\n",
    "bMc = ba1/ba2"
   ]
  },
  {
   "cell_type": "code",
   "execution_count": 16,
   "id": "fb04919b-d8e5-4e4c-947e-deccd9f75790",
   "metadata": {},
   "outputs": [
    {
     "data": {
      "text/latex": [
       "$6.6865431 \\times 10^{-12} \\; \\mathrm{sr}$"
      ],
      "text/plain": [
       "<Quantity 6.68654315e-12 sr>"
      ]
     },
     "execution_count": 16,
     "metadata": {},
     "output_type": "execute_result"
    }
   ],
   "source": [
    "ba2"
   ]
  },
  {
   "cell_type": "code",
   "execution_count": 17,
   "id": "40a85738-90da-4657-aa30-49a2bc0d143e",
   "metadata": {},
   "outputs": [],
   "source": [
    "def gaussian(x, x0=0, width=1):\n",
    "    return np.exp(-(x-x0)**2/(2*width**2))\n",
    "\n",
    "fwhm = np.sqrt(8*np.log(2))\n",
    "angle = fwhm*np.sqrt(fctr)\n",
    "ap_cor = quad(gaussian, -np.inf, np.inf)[0]/quad(gaussian, -angle,angle)[0]"
   ]
  },
  {
   "cell_type": "code",
   "execution_count": 18,
   "id": "83daab1d-ba47-4738-9d03-9bd6625d05cb",
   "metadata": {},
   "outputs": [
    {
     "data": {
      "text/plain": [
       "1.4647947734915436"
      ]
     },
     "execution_count": 18,
     "metadata": {},
     "output_type": "execute_result"
    }
   ],
   "source": [
    "ap_cor"
   ]
  },
  {
   "cell_type": "code",
   "execution_count": 19,
   "id": "fb077a80-4f01-4dea-bcf6-c40ad4aa3025",
   "metadata": {},
   "outputs": [
    {
     "data": {
      "text/latex": [
       "$20.162089 \\; \\mathrm{}$"
      ],
      "text/plain": [
       "<Quantity 20.16208874>"
      ]
     },
     "execution_count": 19,
     "metadata": {},
     "output_type": "execute_result"
    }
   ],
   "source": [
    "ppb"
   ]
  },
  {
   "cell_type": "code",
   "execution_count": 20,
   "id": "6486c679-ff9e-4707-a5f6-fd4ec8f71c27",
   "metadata": {},
   "outputs": [],
   "source": [
    "phot_table = aperture_photometry(data, aper, wcs=wcs) \n",
    "phot_table1 = aperture_photometry(data1, aper, wcs=wcs1) "
   ]
  },
  {
   "cell_type": "code",
   "execution_count": 21,
   "id": "2db4792c-3c78-483d-9607-f979ed517337",
   "metadata": {},
   "outputs": [],
   "source": [
    "phot = phot_table['aperture_sum'].value*ap_cor/ppb\n",
    "phot1 = phot_table1['aperture_sum'].value*ap_cor/ppb1"
   ]
  },
  {
   "cell_type": "code",
   "execution_count": 22,
   "id": "e008aee8-8f1d-4640-87c8-e5a0234f202d",
   "metadata": {},
   "outputs": [
    {
     "data": {
      "text/plain": [
       "<matplotlib.legend.Legend at 0x2adfb5e1a790>"
      ]
     },
     "execution_count": 22,
     "metadata": {},
     "output_type": "execute_result"
    },
    {
     "data": {
      "image/png": "[encoded data removed]",
      "text/plain": [
       "<Figure size 432x288 with 1 Axes>"
      ]
     },
     "metadata": {
      "needs_background": "light"
     },
     "output_type": "display_data"
    }
   ],
   "source": [
    "plt.plot([0,1],[0,1],label='slope 1',color='k')\n",
    "plt.scatter(G_cat['peak'],phot,label='N',alpha=0.5)\n",
    "plt.scatter(G_cat['peak'],phot1,label='M',alpha=0.5)\n",
    "plt.loglog()\n",
    "#plt.xlim(0.001,2)\n",
    "#plt.ylim(0.0001,100)\n",
    "plt.ylabel('photometry on mine')\n",
    "plt.xlabel('G2018 flux')\n",
    "plt.legend()"
   ]
  },
  {
   "cell_type": "code",
   "execution_count": 23,
   "id": "428456a0-3efc-49ae-be9d-93c9cd5bd9b4",
   "metadata": {},
   "outputs": [],
   "source": [
    "err = (np.array(G_cat['peak'])-phot)/np.array(G_cat['peak'])*100\n",
    "errabs = np.absolute(err)\n",
    "err1 = (np.array(G_cat['peak'])-phot1)/np.array(G_cat['peak'])*100\n",
    "err1abs = np.absolute(err1)"
   ]
  },
  {
   "cell_type": "code",
   "execution_count": 24,
   "id": "6b000e6e-634a-4ddf-bac1-5fe471586f96",
   "metadata": {},
   "outputs": [],
   "source": [
    "#G_cat.add_column(err,index=0,name='errN')\n",
    "#G_cat.add_column(err1,index=1,name='errM')"
   ]
  },
  {
   "cell_type": "code",
   "execution_count": 25,
   "id": "93e3b18b-4609-4cc8-8fb7-f9f9bd448742",
   "metadata": {},
   "outputs": [
    {
     "data": {
      "text/html": [
       "<div><i>Table length=1</i>\n",
       "<table id=\"table47140803929712\" class=\"table-striped table-bordered table-condensed\">\n",
       "<thead><tr><th>name</th><th>RA</th><th>Dec</th><th>peak</th><th>sum</th><th>alpha</th><th>alphaerror</th><th>npix</th><th>beam_area</th><th>bgmad</th><th>color</th><th>peak_mass_20K</th><th>peak_col_20K</th><th>peak_mass_40K</th><th>peak_col_40K</th><th>peak_90GHz</th><th>sum_90GHz</th><th>bgmad_90GHz</th><th>peak_100GHz</th><th>sum_100GHz</th><th>bgmad_100GHz</th><th>peak_K</th><th>SIMBAD_ID</th><th>SIMBAD_OTYPE</th><th>Caswell_Name</th><th>Caswell_V_CH3OH</th><th>Caswell_matchdistance</th><th>McGrath_V_H2O</th><th>McGrath_matchdistance</th><th>Muno_xray_ID</th><th>Muno_xray_Counts</th><th>Muno_xray_matchdistance</th><th>nn11</th><th>radius</th><th>Cluster</th><th>Classification</th></tr></thead>\n",
       "<thead><tr><th></th><th>deg</th><th>deg</th><th>Jy / beam</th><th>Jy / beam</th><th></th><th></th><th></th><th>sr</th><th>Jy / beam</th><th></th><th>solMass</th><th>1 / cm2</th><th>solMass</th><th>1 / cm2</th><th></th><th></th><th></th><th></th><th></th><th></th><th>K</th><th></th><th></th><th></th><th>km / s</th><th>arcsec</th><th>km / s</th><th>arcsec</th><th></th><th>1 / (cm2 s)</th><th>arcsec</th><th>deg</th><th></th><th></th><th></th></tr></thead>\n",
       "<thead><tr><th>str16</th><th>float64</th><th>float64</th><th>float64</th><th>float64</th><th>float64</th><th>float64</th><th>float64</th><th>float64</th><th>float64</th><th>str6</th><th>float64</th><th>float64</th><th>float64</th><th>float64</th><th>float64</th><th>float64</th><th>float64</th><th>float64</th><th>float64</th><th>float64</th><th>float64</th><th>str24</th><th>str11</th><th>str11</th><th>float64</th><th>float64</th><th>float64</th><th>float64</th><th>str15</th><th>float64</th><th>float64</th><th>float64</th><th>float64</th><th>str2</th><th>str19</th></tr></thead>\n",
       "<tr><td>core_102</td><td>266.825441667</td><td>-28.3686027778</td><td>0.00857824925333</td><td>0.179342183808</td><td>1.18122637272</td><td>1.00739204884</td><td>47.0</td><td>6.68830907334e-12</td><td>8.65678976725e-05</td><td>green</td><td>306.630055426</td><td>3.34047174021e+25</td><td>144.464163787</td><td>1.45351371991e+25</td><td>0.0076988665387</td><td>0.146371900162</td><td>0.000462590300969</td><td>0.00695632398129</td><td>0.106307511909</td><td>0.00116911289668</td><td>4.49785552383</td><td>[GCD95] X08.33</td><td>HII</td><td>-</td><td>nan</td><td>nan</td><td>nan</td><td>nan</td><td>-</td><td>nan</td><td>nan</td><td>0.00386155396041</td><td>nan</td><td>--</td><td>S\\_\\_\\_ HII</td></tr>\n",
       "</table></div>"
      ],
      "text/plain": [
       "<Table length=1>\n",
       "  name         RA           Dec             peak            sum           alpha       alphaerror  ... Muno_xray_Counts Muno_xray_matchdistance       nn11        radius Cluster Classification\n",
       "              deg           deg          Jy / beam       Jy / beam                                ...   1 / (cm2 s)             arcsec               deg                                      \n",
       " str16      float64       float64         float64         float64        float64       float64    ...     float64              float64             float64      float64   str2      str19     \n",
       "-------- ------------- -------------- ---------------- -------------- ------------- ------------- ... ---------------- ----------------------- ---------------- ------- ------- --------------\n",
       "core_102 266.825441667 -28.3686027778 0.00857824925333 0.179342183808 1.18122637272 1.00739204884 ...              nan                     nan 0.00386155396041     nan      --    S\\_\\_\\_ HII"
      ]
     },
     "execution_count": 25,
     "metadata": {},
     "output_type": "execute_result"
    }
   ],
   "source": [
    "G_cat[np.where(G_cat['name']=='core_102')]"
   ]
  },
  {
   "cell_type": "code",
   "execution_count": 26,
   "id": "6abb2efc-926e-4854-b622-a1a979cf8899",
   "metadata": {},
   "outputs": [
    {
     "data": {
      "text/plain": [
       "(array([ 4.,  0.,  2.,  3.,  5., 20., 10.,  8.,  5.,  4.]),\n",
       " array([-123.40585689, -100.15353511,  -76.90121334,  -53.64889156,\n",
       "         -30.39656979,   -7.14424801,   16.10807376,   39.36039554,\n",
       "          62.61271731,   85.86503909,  109.11736087]),\n",
       " <BarContainer object of 10 artists>)"
      ]
     },
     "execution_count": 26,
     "metadata": {},
     "output_type": "execute_result"
    },
    {
     "data": {
      "image/png": "[encoded data removed]",
      "text/plain": [
       "<Figure size 432x288 with 1 Axes>"
      ]
     },
     "metadata": {
      "needs_background": "light"
     },
     "output_type": "display_data"
    }
   ],
   "source": [
    "#err = err[~np.isnan(err)]\n",
    "plt.hist(err.value)"
   ]
  },
  {
   "cell_type": "code",
   "execution_count": 27,
   "id": "6a090a0a-4d8a-44aa-8c33-fecf7a7e76c6",
   "metadata": {},
   "outputs": [
    {
     "data": {
      "text/plain": [
       "<matplotlib.legend.Legend at 0x2adfd2ee5940>"
      ]
     },
     "execution_count": 27,
     "metadata": {},
     "output_type": "execute_result"
    },
    {
     "data": {
      "image/png": "[encoded data removed]",
      "text/plain": [
       "<Figure size 432x288 with 1 Axes>"
      ]
     },
     "metadata": {
      "needs_background": "light"
     },
     "output_type": "display_data"
    }
   ],
   "source": [
    "plt.plot([0,1],[0,1],label='slope 1',color='k')\n",
    "plt.scatter(G_cat['peak'],phot,label='N',alpha=0.5)\n",
    "plt.scatter(G_cat['peak'],phot1,label='M',alpha=0.5)\n",
    "plt.loglog()\n",
    "#plt.xlim(0.001,2)\n",
    "#plt.ylim(0.0001,100)\n",
    "plt.ylabel('photometry on mine')\n",
    "plt.xlabel('G2018 flux')\n",
    "plt.scatter(G_cat[np.where(err>70)]['peak'], phot[np.where(err>70)])\n",
    "#plt.scatter(G_cat[np.where(err1abs<10)]['peak'], phot1[np.where(err1abs<10)])\n",
    "#plt.scatter(G_cat[np.where(err_abs < 10)]['peak'], phot1[np.where(err_abs < 10)],)\n",
    "plt.legend()"
   ]
  },
  {
   "cell_type": "code",
   "execution_count": 28,
   "id": "8474f0c8-e0fe-4a46-a38c-e6e0c72fc2b4",
   "metadata": {},
   "outputs": [
    {
     "data": {
      "text/html": [
       "<div><i>Table length=35</i>\n",
       "<table id=\"table47140806572880\" class=\"table-striped table-bordered table-condensed\">\n",
       "<thead><tr><th>name</th><th>RA</th><th>Dec</th><th>peak</th><th>sum</th><th>alpha</th><th>alphaerror</th><th>npix</th><th>beam_area</th><th>bgmad</th><th>color</th><th>peak_mass_20K</th><th>peak_col_20K</th><th>peak_mass_40K</th><th>peak_col_40K</th><th>peak_90GHz</th><th>sum_90GHz</th><th>bgmad_90GHz</th><th>peak_100GHz</th><th>sum_100GHz</th><th>bgmad_100GHz</th><th>peak_K</th><th>SIMBAD_ID</th><th>SIMBAD_OTYPE</th><th>Caswell_Name</th><th>Caswell_V_CH3OH</th><th>Caswell_matchdistance</th><th>McGrath_V_H2O</th><th>McGrath_matchdistance</th><th>Muno_xray_ID</th><th>Muno_xray_Counts</th><th>Muno_xray_matchdistance</th><th>nn11</th><th>radius</th><th>Cluster</th><th>Classification</th></tr></thead>\n",
       "<thead><tr><th></th><th>deg</th><th>deg</th><th>Jy / beam</th><th>Jy / beam</th><th></th><th></th><th></th><th>sr</th><th>Jy / beam</th><th></th><th>solMass</th><th>1 / cm2</th><th>solMass</th><th>1 / cm2</th><th></th><th></th><th></th><th></th><th></th><th></th><th>K</th><th></th><th></th><th></th><th>km / s</th><th>arcsec</th><th>km / s</th><th>arcsec</th><th></th><th>1 / (cm2 s)</th><th>arcsec</th><th>deg</th><th></th><th></th><th></th></tr></thead>\n",
       "<thead><tr><th>str16</th><th>float64</th><th>float64</th><th>float64</th><th>float64</th><th>float64</th><th>float64</th><th>float64</th><th>float64</th><th>float64</th><th>str6</th><th>float64</th><th>float64</th><th>float64</th><th>float64</th><th>float64</th><th>float64</th><th>float64</th><th>float64</th><th>float64</th><th>float64</th><th>float64</th><th>str24</th><th>str11</th><th>str11</th><th>float64</th><th>float64</th><th>float64</th><th>float64</th><th>str15</th><th>float64</th><th>float64</th><th>float64</th><th>float64</th><th>str2</th><th>str19</th></tr></thead>\n",
       "<tr><td>core_103</td><td>266.827116667</td><td>-28.3698333333</td><td>0.00907186605036</td><td>0.293650600128</td><td>4.7069978714</td><td>0.798583328724</td><td>52.0</td><td>6.68830907334e-12</td><td>0.00125292983649</td><td>green</td><td>324.274418671</td><td>3.56586873601e+25</td><td>152.777041591</td><td>1.54304206118e+25</td><td>0.00876395776868</td><td>0.291205066023</td><td>0.000964897470483</td><td>0.00892541930079</td><td>0.263080821373</td><td>0.00037032578667</td><td>4.7566748903</td><td>-</td><td>-</td><td>-</td><td>nan</td><td>nan</td><td>nan</td><td>nan</td><td>-</td><td>nan</td><td>nan</td><td>0.00303451432398</td><td>nan</td><td>--</td><td>S\\_\\_\\_ -</td></tr>\n",
       "<tr><td>core_104</td><td>266.826654167</td><td>-28.3697055556</td><td>0.00507354224101</td><td>0.159569426556</td><td>3.47850513458</td><td>0.509051203728</td><td>52.0</td><td>6.68830907334e-12</td><td>0.000630826675707</td><td>green</td><td>181.354084339</td><td>1.8562635974e+25</td><td>85.4422639911</td><td>8.37221083944e+24</td><td>0.00453815050423</td><td>0.1359854599</td><td>0.000365200716258</td><td>0.00421722186729</td><td>0.10169376569</td><td>0.000393476218392</td><td>2.66022346987</td><td>-</td><td>-</td><td>-</td><td>nan</td><td>nan</td><td>nan</td><td>nan</td><td>-</td><td>nan</td><td>nan</td><td>0.0033589436705</td><td>nan</td><td>--</td><td>S\\_\\_\\_ -</td></tr>\n",
       "<tr><td>core_105</td><td>266.825966667</td><td>-28.3695666667</td><td>0.00181067921221</td><td>0.0482482508814</td><td>2.07058095932</td><td>3.73277950287</td><td>50.0</td><td>6.68830907334e-12</td><td>0.000146023913965</td><td>green</td><td>64.72284155</td><td>6.28506174094e+24</td><td>30.4931986182</td><td>2.91818778529e+24</td><td>0.00123367377091</td><td>0.0298480237216</td><td>0.000265203785685</td><td>0.00067603396019</td><td>-0.0168478536318</td><td>0.000969056210002</td><td>0.949398094649</td><td>-</td><td>-</td><td>-</td><td>nan</td><td>nan</td><td>nan</td><td>nan</td><td>-</td><td>nan</td><td>nan</td><td>0.00372186885943</td><td>nan</td><td>--</td><td>S\\_\\_\\_ -</td></tr>\n",
       "<tr><td>core_107</td><td>266.830066667</td><td>-28.3699833333</td><td>0.00933190342039</td><td>0.278049934306</td><td>3.62005329132</td><td>0.83007222414</td><td>52.0</td><td>6.68830907334e-12</td><td>0.000763880278081</td><td>green</td><td>333.569470707</td><td>3.68641642738e+25</td><td>157.156266314</td><td>1.5904886002e+25</td><td>0.00761144794524</td><td>0.237477835966</td><td>0.000354031191089</td><td>0.0107716256753</td><td>0.296216618968</td><td>0.000760456286606</td><td>4.89302095424</td><td>-</td><td>-</td><td>-</td><td>nan</td><td>nan</td><td>nan</td><td>nan</td><td>-</td><td>nan</td><td>nan</td><td>0.00253278601503</td><td>nan</td><td>--</td><td>S\\_\\_\\_ -</td></tr>\n",
       "<tr><td>core_108</td><td>266.83025</td><td>-28.3708333333</td><td>0.0123311970383</td><td>0.313586416421</td><td>3.48185324669</td><td>0.417881965637</td><td>50.0</td><td>6.68830907334e-12</td><td>0.00105303729014</td><td>green</td><td>440.779408439</td><td>5.17711774222e+25</td><td>207.666624741</td><td>2.15244181505e+25</td><td>0.0118605401367</td><td>0.33735038829</td><td>0.00122365348394</td><td>0.013710539788</td><td>0.357916010777</td><td>0.0010076987447</td><td>6.46564830144</td><td>NAME Sgr B2 Maser F</td><td>Maser</td><td>0.677-0.025</td><td>73.3000030518</td><td>0.331177682073</td><td>65.4000015259</td><td>0.313903761666</td><td>-</td><td>nan</td><td>nan</td><td>0.00235482141781</td><td>nan</td><td>N</td><td>S\\_MW Maser</td></tr>\n",
       "<tr><td>core_111</td><td>266.8312875</td><td>-28.3707111111</td><td>0.00752501934767</td><td>0.265174738131</td><td>4.56552028656</td><td>2.00467991829</td><td>51.0</td><td>6.68830907334e-12</td><td>0.00236961732968</td><td>green</td><td>268.982286655</td><td>2.87388047715e+25</td><td>126.726980697</td><td>1.26479552824e+25</td><td>0.00666617089882</td><td>0.234339762479</td><td>0.00171545666468</td><td>0.00905358884484</td><td>0.304990474833</td><td>0.0025556924014</td><td>3.94561277486</td><td>-</td><td>-</td><td>-</td><td>nan</td><td>nan</td><td>nan</td><td>nan</td><td>-</td><td>nan</td><td>nan</td><td>0.00159656742863</td><td>nan</td><td>N</td><td>S\\_\\_\\_ -</td></tr>\n",
       "<tr><td>core_113</td><td>266.83185</td><td>-28.3734555556</td><td>0.00849447678775</td><td>0.234398504486</td><td>2.17025637627</td><td>1.94831037521</td><td>50.0</td><td>6.68830907334e-12</td><td>0.000642894830355</td><td>green</td><td>303.635603411</td><td>3.30265577751e+25</td><td>143.053372513</td><td>1.43838895931e+25</td><td>0.00654339091852</td><td>0.163597814972</td><td>0.000407860891922</td><td>0.00899642053992</td><td>0.248823444126</td><td>0.000373820370569</td><td>4.4539308912</td><td>-</td><td>-</td><td>-</td><td>nan</td><td>nan</td><td>nan</td><td>nan</td><td>-</td><td>nan</td><td>nan</td><td>0.00264568150815</td><td>nan</td><td>N</td><td>S\\_\\_\\_ -</td></tr>\n",
       "<tr><td>core_124</td><td>266.826029167</td><td>-28.394175</td><td>0.00165055808611</td><td>0.0361265768952</td><td>0.174869209528</td><td>1.22931647301</td><td>51.0</td><td>6.68830907334e-12</td><td>0.000132663812236</td><td>green</td><td>58.9993018951</td><td>5.71514946721e+24</td><td>27.7966385273</td><td>2.65710963691e+24</td><td>0.00147461635061</td><td>0.0345221531916</td><td>0.000193021046972</td><td>0.00140031857882</td><td>0.0265861540402</td><td>0.000157777336862</td><td>0.865441372217</td><td>-</td><td>-</td><td>-</td><td>nan</td><td>nan</td><td>nan</td><td>nan</td><td>-</td><td>nan</td><td>nan</td><td>0.00491328707261</td><td>nan</td><td>--</td><td>S\\_\\_\\_ -</td></tr>\n",
       "<tr><td>core_132</td><td>266.828104167</td><td>-28.3844194444</td><td>0.0121240951121</td><td>0.369247621624</td><td>3.75948691368</td><td>0.498914092779</td><td>52.0</td><td>6.68830907334e-12</td><td>0.00139660509605</td><td>green</td><td>433.376537149</td><td>5.06770867362e+25</td><td>204.178872672</td><td>2.11273986867e+25</td><td>0.010420111008</td><td>0.342917149886</td><td>0.000987851658717</td><td>0.012916604057</td><td>0.364031295292</td><td>0.000482782236982</td><td>6.35705801509</td><td>-</td><td>-</td><td>-</td><td>nan</td><td>nan</td><td>nan</td><td>nan</td><td>-</td><td>nan</td><td>nan</td><td>0.00247433266693</td><td>nan</td><td>--</td><td>S\\_\\_\\_ -</td></tr>\n",
       "<tr><td>core_135</td><td>266.824404167</td><td>-28.3770055556</td><td>0.00144944188651</td><td>0.0294015759828</td><td>-1.05288434029</td><td>1.48900353909</td><td>48.0</td><td>6.68830907334e-12</td><td>0.000116767507225</td><td>green</td><td>51.8103907769</td><td>5.00332044482e+24</td><td>24.4096905917</td><td>2.33002992901e+24</td><td>0.00125495216344</td><td>0.0133854047072</td><td>0.000246971695583</td><td>0.000752496824134</td><td>0.00269751437691</td><td>0.000155532597014</td><td>0.759989597314</td><td>-</td><td>-</td><td>-</td><td>nan</td><td>nan</td><td>nan</td><td>nan</td><td>-</td><td>nan</td><td>nan</td><td>0.00624313887087</td><td>nan</td><td>--</td><td>S\\_\\_\\_ -</td></tr>\n",
       "<tr><td>core_155</td><td>266.829170833</td><td>-28.3695861111</td><td>0.00470662442967</td><td>0.132793151482</td><td>3.7806558609</td><td>0.993995010853</td><td>52.0</td><td>6.68830907334e-12</td><td>0.000535955247041</td><td>green</td><td>168.238584252</td><td>1.71144554027e+25</td><td>79.2630923178</td><td>7.74576768925e+24</td><td>0.00337880733423</td><td>0.0972343225731</td><td>0.000410929030265</td><td>0.00503417756408</td><td>0.117791672354</td><td>0.000375279726549</td><td>2.46783650888</td><td>-</td><td>-</td><td>-</td><td>nan</td><td>nan</td><td>nan</td><td>nan</td><td>-</td><td>nan</td><td>nan</td><td>0.0028194159235</td><td>nan</td><td>--</td><td>S\\_\\_\\_ -</td></tr>\n",
       "<tr><td>core_164</td><td>266.825308333</td><td>-28.3894013889</td><td>0.00219206372276</td><td>0.0599654076505</td><td>3.52628326416</td><td>0.945484995842</td><td>48.0</td><td>6.68830907334e-12</td><td>0.000104400564532</td><td>green</td><td>78.3554547038</td><td>7.65404105767e+24</td><td>36.9160003777</td><td>3.54244461263e+24</td><td>0.00199198885821</td><td>0.051923344945</td><td>0.000171015735698</td><td>0.00235210871324</td><td>0.0592309068015</td><td>0.000129358567921</td><td>1.1493704173</td><td>-</td><td>-</td><td>-</td><td>nan</td><td>nan</td><td>nan</td><td>nan</td><td>-</td><td>nan</td><td>nan</td><td>0.00434794772861</td><td>nan</td><td>--</td><td>S\\_\\_\\_ -</td></tr>\n",
       "<tr><td>core_170</td><td>266.832895833</td><td>-28.3704502778</td><td>0.0919992998242</td><td>2.82919492759</td><td>1.69137728214</td><td>0.0822939202189</td><td>49.0</td><td>6.68830907334e-12</td><td>0.022519440388</td><td>green</td><td>nan</td><td>nan</td><td>nan</td><td>nan</td><td>0.0896335765719</td><td>2.78524511121</td><td>0.020985834641</td><td>0.0902027413249</td><td>2.65058699436</td><td>0.0203943150008</td><td>48.2382298162</td><td>[MM97] Core h</td><td>PartofCloud</td><td>-</td><td>nan</td><td>nan</td><td>75.3000030518</td><td>0.32728194028</td><td>-</td><td>nan</td><td>nan</td><td>0.00245626569281</td><td>nan</td><td>N</td><td>S\\_\\_W PartofCloud</td></tr>\n",
       "<tr><td>core_171_K3</td><td>266.832895833</td><td>-28.3714502778</td><td>0.185295373201</td><td>5.14789291471</td><td>1.35723757744</td><td>0.0232740361243</td><td>47.0</td><td>6.68830907334e-12</td><td>0.024765808005</td><td>green</td><td>nan</td><td>nan</td><td>nan</td><td>nan</td><td>0.182438105345</td><td>5.09412941337</td><td>0.0207359671458</td><td>0.17622025311</td><td>4.74555544928</td><td>0.0218163426036</td><td>97.1564002492</td><td>NAME Sgr B2 HII K3</td><td>HII</td><td>-</td><td>nan</td><td>nan</td><td>110.5</td><td>0.494064880018</td><td>-</td><td>nan</td><td>nan</td><td>0.00190256877596</td><td>0.015514037795626701</td><td>N</td><td>S\\_\\_W HII</td></tr>\n",
       "<tr><td>core_172_K2</td><td>266.8327875</td><td>-28.3717961111</td><td>0.372394472361</td><td>11.8383062035</td><td>2.51532769203</td><td>0.0180639587343</td><td>49.0</td><td>6.68830907334e-12</td><td>0.0489022726382</td><td>green</td><td>nan</td><td>nan</td><td>nan</td><td>nan</td><td>0.348594665527</td><td>11.1371772736</td><td>0.0442953771997</td><td>0.374682158232</td><td>11.5702616721</td><td>0.0447562652998</td><td>195.258552775</td><td>NAME Sgr B2 HII K2</td><td>HII</td><td>-</td><td>nan</td><td>nan</td><td>76.5999984741</td><td>0.318956771003</td><td>-</td><td>nan</td><td>nan</td><td>0.00185315644314</td><td>0.011635528346720025</td><td>N</td><td>S\\_\\_W HII</td></tr>\n",
       "<tr><td>core_174_f3</td><td>266.834029167</td><td>-28.3846691667</td><td>1.64198863506</td><td>43.5335049033</td><td>0.887560904026</td><td>0.00181859883014</td><td>50.0</td><td>6.68830907334e-12</td><td>0.0458748524886</td><td>green</td><td>nan</td><td>nan</td><td>nan</td><td>nan</td><td>1.69658851624</td><td>46.3272933364</td><td>0.0417097047652</td><td>1.56763470173</td><td>39.899823755</td><td>0.0386372822041</td><td>860.948129878</td><td>NAME Sgr B2 HII F</td><td>HII</td><td>-</td><td>nan</td><td>nan</td><td>17.8999996185</td><td>0.176824666206</td><td>-</td><td>nan</td><td>nan</td><td>0.00053330951954</td><td>nan</td><td>M</td><td>S\\_\\_W HII</td></tr>\n",
       "<tr><td>core_175_G</td><td>266.834520833</td><td>-28.3842116667</td><td>0.342673093081</td><td>7.11604309268</td><td>0.684395313263</td><td>0.0302955340594</td><td>50.0</td><td>6.68830907334e-12</td><td>0.00563206278775</td><td>green</td><td>nan</td><td>nan</td><td>nan</td><td>nan</td><td>0.343817591667</td><td>7.45670470037</td><td>0.00244626568647</td><td>0.328936517239</td><td>6.40441310406</td><td>0.00451797107639</td><td>179.674665432</td><td>NAME Sgr B2 HII G</td><td>HII</td><td>-</td><td>nan</td><td>nan</td><td>49.2000007629</td><td>0.268763113509</td><td>-</td><td>nan</td><td>nan</td><td>0.000924889492476</td><td>nan</td><td>M</td><td>S\\_\\_W HII</td></tr>\n",
       "<tr><td>core_176_f1</td><td>266.8338625</td><td>-28.3844672222</td><td>0.923554301262</td><td>26.3063839972</td><td>1.22570097446</td><td>0.00617451965809</td><td>50.0</td><td>6.68830907334e-12</td><td>0.030292927646</td><td>green</td><td>nan</td><td>nan</td><td>nan</td><td>nan</td><td>0.930613636971</td><td>27.7957983017</td><td>0.0264643728863</td><td>0.898177802563</td><td>24.26972121</td><td>0.0270471121407</td><td>484.249605346</td><td>NAME Sgr B2 HII F1</td><td>HII</td><td>-</td><td>nan</td><td>nan</td><td>59.5</td><td>0.0878510442112</td><td>-</td><td>nan</td><td>nan</td><td>0.00063306119779</td><td>nan</td><td>M</td><td>S\\_\\_W HII</td></tr>\n",
       "<tr><td>core_178_f10.37</td><td>266.834075</td><td>-28.385</td><td>0.199245661497</td><td>4.86434699968</td><td>1.49589407444</td><td>0.0390993505716</td><td>51.0</td><td>6.68830907334e-12</td><td>0.0180724711374</td><td>green</td><td>nan</td><td>nan</td><td>nan</td><td>nan</td><td>0.188415274024</td><td>4.79726766422</td><td>0.0140082115524</td><td>0.200493723154</td><td>4.55102660507</td><td>0.0152619537196</td><td>104.47099084</td><td>[GCD95] F10.37</td><td>HII</td><td>-</td><td>nan</td><td>nan</td><td>72.5999984741</td><td>0.571685726292</td><td>174720.1-282305</td><td>1.99999999495e-06</td><td>0.378143305344</td><td>0.000683820973882</td><td>0.0033403662628708735</td><td>M</td><td>SX\\_W HII</td></tr>\n",
       "<tr><td>core_179_f10.38</td><td>266.8341375</td><td>-28.3851869444</td><td>0.126577079296</td><td>3.2256636247</td><td>1.64511275291</td><td>0.0130346184596</td><td>52.0</td><td>6.68830907334e-12</td><td>0.00929706025088</td><td>green</td><td>nan</td><td>nan</td><td>nan</td><td>nan</td><td>0.125556603074</td><td>3.16385250911</td><td>0.00682031209974</td><td>0.119899623096</td><td>3.01119581051</td><td>0.00878404698079</td><td>66.36848598</td><td>[GCD95] F10.38</td><td>HII</td><td>-</td><td>nan</td><td>nan</td><td>72.5999984741</td><td>0.158038911185</td><td>-</td><td>nan</td><td>nan</td><td>0.000759298382955</td><td>nan</td><td>M</td><td>S\\_\\_W HII</td></tr>\n",
       "<tr><td>core_229</td><td>266.832891667</td><td>-28.3798538889</td><td>0.00332265347242</td><td>0.0811621631437</td><td>-0.571118474007</td><td>2.26425790787</td><td>49.0</td><td>6.68830907334e-12</td><td>0.000177577853848</td><td>green</td><td>118.768455931</td><td>1.18111986446e+25</td><td>55.9559813748</td><td>5.41326572727e+24</td><td>0.00332361087203</td><td>0.0863017527736</td><td>0.000332654286154</td><td>0.00318161444739</td><td>0.0677780012047</td><td>0.000332548397518</td><td>1.74217545252</td><td>-</td><td>-</td><td>-</td><td>nan</td><td>nan</td><td>nan</td><td>nan</td><td>-</td><td>nan</td><td>nan</td><td>0.00389810421569</td><td>nan</td><td>--</td><td>S\\_\\_\\_ -</td></tr>\n",
       "<tr><td>core_231</td><td>266.831445833</td><td>-28.3764163889</td><td>0.00292220548727</td><td>0.0753039447591</td><td>-0.581922113895</td><td>1.51016819477</td><td>49.0</td><td>6.68830907334e-12</td><td>0.000176229197664</td><td>green</td><td>104.454417687</td><td>1.03214384662e+25</td><td>49.2121363771</td><td>4.74713123546e+24</td><td>0.00308323721401</td><td>0.0829634159163</td><td>0.000360175234668</td><td>0.00306037068367</td><td>0.0841916077479</td><td>0.000369499432442</td><td>1.53220752913</td><td>-</td><td>-</td><td>-</td><td>nan</td><td>nan</td><td>nan</td><td>nan</td><td>-</td><td>nan</td><td>nan</td><td>0.00407823826582</td><td>nan</td><td>--</td><td>S\\_\\_\\_ -</td></tr>\n",
       "<tr><td>core_232</td><td>266.8314</td><td>-28.3768694444</td><td>0.0025571512524</td><td>0.0641941890171</td><td>1.09824979305</td><td>0.886064469814</td><td>47.0</td><td>6.68830907334e-12</td><td>0.000174480816192</td><td>green</td><td>91.4055312572</td><td>8.98003427725e+24</td><td>43.064348732</td><td>4.14323124691e+24</td><td>0.002299945103</td><td>0.0492802336166</td><td>0.000393870992286</td><td>0.00322726368904</td><td>0.0956095486763</td><td>0.000322729815452</td><td>1.34079770198</td><td>-</td><td>-</td><td>-</td><td>nan</td><td>nan</td><td>nan</td><td>nan</td><td>-</td><td>nan</td><td>nan</td><td>0.00453003010586</td><td>nan</td><td>--</td><td>S\\_\\_\\_ -</td></tr>\n",
       "<tr><td>core_251</td><td>266.830375</td><td>-28.3717658333</td><td>0.00273599708453</td><td>0.0793166574149</td><td>2.52569699287</td><td>2.71413683891</td><td>47.0</td><td>6.68830907334e-12</td><td>0.000346492731384</td><td>orange</td><td>97.7983866986</td><td>9.63524620951e+24</td><td>46.0762469436</td><td>4.43869347301e+24</td><td>0.00174679094926</td><td>0.0351639314431</td><td>0.000211774144548</td><td>0.0024267337285</td><td>0.0602619732508</td><td>0.000817320814442</td><td>1.43457239775</td><td>-</td><td>-</td><td>-</td><td>nan</td><td>nan</td><td>nan</td><td>nan</td><td>-</td><td>nan</td><td>nan</td><td>0.00216057492801</td><td>nan</td><td>N</td><td>W\\_\\_\\_ -</td></tr>\n",
       "<tr><td>core_72</td><td>266.828775</td><td>-28.3979222222</td><td>0.010321220383</td><td>0.236350785708</td><td>3.38555669785</td><td>0.294515579939</td><td>52.0</td><td>6.68830907334e-12</td><td>0.000166702726273</td><td>green</td><td>368.932667338</td><td>4.15700279564e+25</td><td>173.817107415</td><td>1.77281814719e+25</td><td>0.00808799080551</td><td>0.189908016939</td><td>0.000234930120968</td><td>0.010720432736</td><td>0.229978152784</td><td>0.000203106745421</td><td>5.41175206521</td><td>-</td><td>-</td><td>-</td><td>nan</td><td>nan</td><td>nan</td><td>nan</td><td>-</td><td>nan</td><td>nan</td><td>0.0031330544334</td><td>nan</td><td>--</td><td>S\\_\\_\\_ -</td></tr>\n",
       "<tr><td>core_76</td><td>266.833275</td><td>-28.3969055556</td><td>0.0151402810588</td><td>0.384993309854</td><td>3.30561614037</td><td>0.345194756985</td><td>50.0</td><td>6.68830907334e-12</td><td>0.000937959988204</td><td>green</td><td>541.190292231</td><td>6.77465585324e+25</td><td>254.973710611</td><td>2.70500406723e+25</td><td>0.0130814621225</td><td>0.35852869018</td><td>0.000796144726832</td><td>0.0161789674312</td><td>0.399272640585</td><td>0.000578516049628</td><td>7.93854256059</td><td>-</td><td>-</td><td>-</td><td>nan</td><td>nan</td><td>nan</td><td>nan</td><td>-</td><td>nan</td><td>nan</td><td>0.00167683606075</td><td>nan</td><td>S</td><td>S\\_\\_\\_ -</td></tr>\n",
       "<tr><td>core_78</td><td>266.8327625</td><td>-28.3984166667</td><td>0.00277322344482</td><td>0.0824243986863</td><td>1.57619154453</td><td>1.78275024891</td><td>52.0</td><td>6.68830907334e-12</td><td>0.000466650400951</td><td>green</td><td>99.1290452727</td><td>9.77209975761e+24</td><td>46.7031668256</td><td>4.50028924467e+24</td><td>0.00246457732283</td><td>0.0827863495215</td><td>0.000337151856365</td><td>0.00292644323781</td><td>0.0763609961723</td><td>0.000219329734567</td><td>1.45409139111</td><td>-</td><td>-</td><td>-</td><td>nan</td><td>nan</td><td>nan</td><td>nan</td><td>-</td><td>nan</td><td>nan</td><td>0.00161257362643</td><td>nan</td><td>--</td><td>S\\_\\_\\_ -</td></tr>\n",
       "<tr><td>core_81</td><td>266.833995833</td><td>-28.3954055556</td><td>0.00292376289144</td><td>0.0587565495371</td><td>2.94453644753</td><td>1.19008600712</td><td>49.0</td><td>6.68830907334e-12</td><td>0.000354145191814</td><td>green</td><td>104.510087196</td><td>1.03271949942e+25</td><td>49.2383642337</td><td>4.74971444422e+24</td><td>0.00246329489164</td><td>0.0492095327572</td><td>0.000192126646134</td><td>0.00248117442243</td><td>0.0409700177988</td><td>0.000236776807569</td><td>1.53302412687</td><td>-</td><td>-</td><td>-</td><td>nan</td><td>nan</td><td>nan</td><td>nan</td><td>-</td><td>nan</td><td>nan</td><td>0.00278682780898</td><td>nan</td><td>S</td><td>S\\_\\_\\_ -</td></tr>\n",
       "<tr><td>core_83</td><td>266.8278</td><td>-28.3922638889</td><td>0.00553881609812</td><td>0.119492767149</td><td>3.71693205833</td><td>0.761973500252</td><td>49.0</td><td>6.68830907334e-12</td><td>0.000175164464555</td><td>green</td><td>197.985327426</td><td>2.04257510552e+25</td><td>93.2778253878</td><td>9.17153838911e+24</td><td>0.00431368174031</td><td>0.10044682083</td><td>0.000241180010034</td><td>0.00602815300226</td><td>0.123375373529</td><td>0.000235591817072</td><td>2.90418170966</td><td>-</td><td>-</td><td>-</td><td>nan</td><td>nan</td><td>nan</td><td>nan</td><td>-</td><td>nan</td><td>nan</td><td>0.00473638593241</td><td>nan</td><td>--</td><td>S\\_\\_\\_ -</td></tr>\n",
       "<tr><td>core_84</td><td>266.825545833</td><td>-28.3833916667</td><td>0.00349865038879</td><td>0.0733926965331</td><td>1.91186845303</td><td>1.16442751884</td><td>51.0</td><td>6.68830907334e-12</td><td>0.000133554955294</td><td>green</td><td>125.059476701</td><td>1.24721294406e+25</td><td>58.9199017041</td><td>5.70726211666e+24</td><td>0.00262378249317</td><td>0.0419017065797</td><td>0.000191278868227</td><td>0.0028771746438</td><td>0.0328831363622</td><td>0.00039882596775</td><td>1.83445636895</td><td>-</td><td>-</td><td>-</td><td>nan</td><td>nan</td><td>nan</td><td>nan</td><td>-</td><td>nan</td><td>nan</td><td>0.0022605259844</td><td>nan</td><td>--</td><td>S\\_\\_\\_ -</td></tr>\n",
       "<tr><td>core_88</td><td>266.8317375</td><td>-28.3856277778</td><td>0.0226041767746</td><td>0.628038911615</td><td>3.13838815689</td><td>0.179937332869</td><td>51.0</td><td>6.68830907334e-12</td><td>0.00289252924555</td><td>green</td><td>807.987710846</td><td>1.25819467743e+26</td><td>380.671323414</td><td>4.31758558065e+25</td><td>0.0192029252648</td><td>0.539242156781</td><td>0.00247975273042</td><td>0.0246500875801</td><td>0.660437727347</td><td>0.00273351264703</td><td>11.8521062241</td><td>-</td><td>-</td><td>-</td><td>nan</td><td>nan</td><td>99.3000030518</td><td>0.238606990855</td><td>-</td><td>nan</td><td>nan</td><td>0.00122573163011</td><td>nan</td><td>M</td><td>S\\_\\_W -</td></tr>\n",
       "<tr><td>core_94</td><td>266.825395833</td><td>-28.381225</td><td>0.00488166790456</td><td>0.141356903943</td><td>4.30133628845</td><td>0.230763375759</td><td>51.0</td><td>6.68830907334e-12</td><td>0.000813289020468</td><td>green</td><td>174.495524196</td><td>1.7803047013e+25</td><td>82.210955976</td><td>8.04419407388e+24</td><td>0.00271217175759</td><td>0.0590792930598</td><td>0.000201495072047</td><td>0.00465817144141</td><td>0.122325216362</td><td>0.000308602269219</td><td>2.55961750488</td><td>-</td><td>-</td><td>-</td><td>nan</td><td>nan</td><td>nan</td><td>nan</td><td>-</td><td>nan</td><td>nan</td><td>0.00398523016353</td><td>nan</td><td>--</td><td>S\\_\\_\\_ -</td></tr>\n",
       "<tr><td>core_96_Z10.24</td><td>266.833495833</td><td>-28.378125</td><td>0.063546217978</td><td>1.36843623128</td><td>0.677231371403</td><td>0.369918853045</td><td>51.0</td><td>6.68830907334e-12</td><td>0.00146576711762</td><td>green</td><td>nan</td><td>nan</td><td>1070.1660643</td><td>2.45735337167e+26</td><td>0.0656587854028</td><td>1.51139023621</td><td>0.00118263220892</td><td>0.0620389729738</td><td>1.30162794702</td><td>0.00244409337289</td><td>33.3193521324</td><td>MMB G000.672-00.031</td><td>Maser</td><td>0.672-0.031</td><td>58.2000007629</td><td>0.0517126732027</td><td>57.7999992371</td><td>0.511053063146</td><td>-</td><td>nan</td><td>nan</td><td>0.00447453193805</td><td>0.008144869842704017</td><td>--</td><td>S\\_MW Maser</td></tr>\n",
       "<tr><td>core_97</td><td>266.832658333</td><td>-28.3777972222</td><td>0.0129801575094</td><td>0.369488482829</td><td>3.00561857224</td><td>0.566369175911</td><td>49.0</td><td>6.68830907334e-12</td><td>0.00109264783856</td><td>green</td><td>463.976541019</td><td>5.52688509835e+25</td><td>218.595606755</td><td>2.27774811434e+25</td><td>0.0120024485514</td><td>0.363865015563</td><td>0.00107484473983</td><td>0.0147995697334</td><td>0.404342132621</td><td>0.00232716988057</td><td>6.80591941664</td><td>-</td><td>-</td><td>-</td><td>nan</td><td>nan</td><td>60.0999984741</td><td>0.0804205800412</td><td>-</td><td>nan</td><td>nan</td><td>0.00451645681384</td><td>nan</td><td>--</td><td>S\\_\\_W -</td></tr>\n",
       "<tr><td>core_98</td><td>266.831375</td><td>-28.3757083333</td><td>0.0180496573448</td><td>0.520643715747</td><td>3.19582939148</td><td>1.1340136528</td><td>52.0</td><td>6.68830907334e-12</td><td>0.00036117280573</td><td>green</td><td>645.186129316</td><td>8.70396780183e+25</td><td>303.969793597</td><td>3.30686924005e+25</td><td>0.0151882320642</td><td>0.453795328271</td><td>0.000809418605264</td><td>0.0189265199006</td><td>0.546823840123</td><td>0.000605805372144</td><td>9.46402332156</td><td>MMB G000.673-00.029</td><td>Maser</td><td>0.673-0.029</td><td>66.0</td><td>0.141131413732</td><td>nan</td><td>nan</td><td>-</td><td>nan</td><td>nan</td><td>0.00403948898964</td><td>nan</td><td>--</td><td>S\\_M\\_ Maser</td></tr>\n",
       "</table></div>"
      ],
      "text/plain": [
       "<Table length=35>\n",
       "      name            RA           Dec             peak             sum            alpha      ... Muno_xray_matchdistance        nn11               radius        Cluster   Classification  \n",
       "                     deg           deg          Jy / beam        Jy / beam                    ...          arcsec                deg                                                        \n",
       "     str16         float64       float64         float64          float64         float64     ...         float64              float64             float64          str2        str19       \n",
       "--------------- ------------- -------------- ---------------- --------------- --------------- ... ----------------------- ----------------- --------------------- ------- ------------------\n",
       "       core_103 266.827116667 -28.3698333333 0.00907186605036  0.293650600128    4.7069978714 ...                     nan  0.00303451432398                   nan      --          S\\_\\_\\_ -\n",
       "       core_104 266.826654167 -28.3697055556 0.00507354224101  0.159569426556   3.47850513458 ...                     nan   0.0033589436705                   nan      --          S\\_\\_\\_ -\n",
       "       core_105 266.825966667 -28.3695666667 0.00181067921221 0.0482482508814   2.07058095932 ...                     nan  0.00372186885943                   nan      --          S\\_\\_\\_ -\n",
       "       core_107 266.830066667 -28.3699833333 0.00933190342039  0.278049934306   3.62005329132 ...                     nan  0.00253278601503                   nan      --          S\\_\\_\\_ -\n",
       "       core_108     266.83025 -28.3708333333  0.0123311970383  0.313586416421   3.48185324669 ...                     nan  0.00235482141781                   nan       N        S\\_MW Maser\n",
       "       core_111   266.8312875 -28.3707111111 0.00752501934767  0.265174738131   4.56552028656 ...                     nan  0.00159656742863                   nan       N          S\\_\\_\\_ -\n",
       "       core_113     266.83185 -28.3734555556 0.00849447678775  0.234398504486   2.17025637627 ...                     nan  0.00264568150815                   nan       N          S\\_\\_\\_ -\n",
       "       core_124 266.826029167     -28.394175 0.00165055808611 0.0361265768952  0.174869209528 ...                     nan  0.00491328707261                   nan      --          S\\_\\_\\_ -\n",
       "       core_132 266.828104167 -28.3844194444  0.0121240951121  0.369247621624   3.75948691368 ...                     nan  0.00247433266693                   nan      --          S\\_\\_\\_ -\n",
       "       core_135 266.824404167 -28.3770055556 0.00144944188651 0.0294015759828  -1.05288434029 ...                     nan  0.00624313887087                   nan      --          S\\_\\_\\_ -\n",
       "       core_155 266.829170833 -28.3695861111 0.00470662442967  0.132793151482    3.7806558609 ...                     nan   0.0028194159235                   nan      --          S\\_\\_\\_ -\n",
       "       core_164 266.825308333 -28.3894013889 0.00219206372276 0.0599654076505   3.52628326416 ...                     nan  0.00434794772861                   nan      --          S\\_\\_\\_ -\n",
       "       core_170 266.832895833 -28.3704502778  0.0919992998242   2.82919492759   1.69137728214 ...                     nan  0.00245626569281                   nan       N S\\_\\_W PartofCloud\n",
       "    core_171_K3 266.832895833 -28.3714502778   0.185295373201   5.14789291471   1.35723757744 ...                     nan  0.00190256877596  0.015514037795626701       N         S\\_\\_W HII\n",
       "    core_172_K2   266.8327875 -28.3717961111   0.372394472361   11.8383062035   2.51532769203 ...                     nan  0.00185315644314  0.011635528346720025       N         S\\_\\_W HII\n",
       "    core_174_f3 266.834029167 -28.3846691667    1.64198863506   43.5335049033  0.887560904026 ...                     nan  0.00053330951954                   nan       M         S\\_\\_W HII\n",
       "     core_175_G 266.834520833 -28.3842116667   0.342673093081   7.11604309268  0.684395313263 ...                     nan 0.000924889492476                   nan       M         S\\_\\_W HII\n",
       "    core_176_f1   266.8338625 -28.3844672222   0.923554301262   26.3063839972   1.22570097446 ...                     nan  0.00063306119779                   nan       M         S\\_\\_W HII\n",
       "core_178_f10.37    266.834075        -28.385   0.199245661497   4.86434699968   1.49589407444 ...          0.378143305344 0.000683820973882 0.0033403662628708735       M          SX\\_W HII\n",
       "core_179_f10.38   266.8341375 -28.3851869444   0.126577079296    3.2256636247   1.64511275291 ...                     nan 0.000759298382955                   nan       M         S\\_\\_W HII\n",
       "       core_229 266.832891667 -28.3798538889 0.00332265347242 0.0811621631437 -0.571118474007 ...                     nan  0.00389810421569                   nan      --          S\\_\\_\\_ -\n",
       "       core_231 266.831445833 -28.3764163889 0.00292220548727 0.0753039447591 -0.581922113895 ...                     nan  0.00407823826582                   nan      --          S\\_\\_\\_ -\n",
       "       core_232      266.8314 -28.3768694444  0.0025571512524 0.0641941890171   1.09824979305 ...                     nan  0.00453003010586                   nan      --          S\\_\\_\\_ -\n",
       "       core_251    266.830375 -28.3717658333 0.00273599708453 0.0793166574149   2.52569699287 ...                     nan  0.00216057492801                   nan       N          W\\_\\_\\_ -\n",
       "        core_72    266.828775 -28.3979222222   0.010321220383  0.236350785708   3.38555669785 ...                     nan   0.0031330544334                   nan      --          S\\_\\_\\_ -\n",
       "        core_76    266.833275 -28.3969055556  0.0151402810588  0.384993309854   3.30561614037 ...                     nan  0.00167683606075                   nan       S          S\\_\\_\\_ -\n",
       "        core_78   266.8327625 -28.3984166667 0.00277322344482 0.0824243986863   1.57619154453 ...                     nan  0.00161257362643                   nan      --          S\\_\\_\\_ -\n",
       "        core_81 266.833995833 -28.3954055556 0.00292376289144 0.0587565495371   2.94453644753 ...                     nan  0.00278682780898                   nan       S          S\\_\\_\\_ -\n",
       "        core_83      266.8278 -28.3922638889 0.00553881609812  0.119492767149   3.71693205833 ...                     nan  0.00473638593241                   nan      --          S\\_\\_\\_ -\n",
       "        core_84 266.825545833 -28.3833916667 0.00349865038879 0.0733926965331   1.91186845303 ...                     nan   0.0022605259844                   nan      --          S\\_\\_\\_ -\n",
       "        core_88   266.8317375 -28.3856277778  0.0226041767746  0.628038911615   3.13838815689 ...                     nan  0.00122573163011                   nan       M           S\\_\\_W -\n",
       "        core_94 266.825395833     -28.381225 0.00488166790456  0.141356903943   4.30133628845 ...                     nan  0.00398523016353                   nan      --          S\\_\\_\\_ -\n",
       " core_96_Z10.24 266.833495833     -28.378125   0.063546217978   1.36843623128  0.677231371403 ...                     nan  0.00447453193805  0.008144869842704017      --        S\\_MW Maser\n",
       "        core_97 266.832658333 -28.3777972222  0.0129801575094  0.369488482829   3.00561857224 ...                     nan  0.00451645681384                   nan      --           S\\_\\_W -\n",
       "        core_98    266.831375 -28.3757083333  0.0180496573448  0.520643715747   3.19582939148 ...                     nan  0.00403948898964                   nan      --       S\\_M\\_ Maser"
      ]
     },
     "execution_count": 28,
     "metadata": {},
     "output_type": "execute_result"
    }
   ],
   "source": [
    "G_cat[np.where((errabs<20) | (err1abs<20))]"
   ]
  },
  {
   "cell_type": "code",
   "execution_count": 29,
   "id": "2792fa88-2edf-4b29-9d36-0a401c7a646e",
   "metadata": {},
   "outputs": [
    {
     "data": {
      "text/plain": [
       "Text(0.5, 0, 'G2018 flux')"
      ]
     },
     "execution_count": 29,
     "metadata": {},
     "output_type": "execute_result"
    },
    {
     "data": {
      "image/png": "[encoded data removed]",
      "text/plain": [
       "<Figure size 432x288 with 1 Axes>"
      ]
     },
     "metadata": {
      "needs_background": "light"
     },
     "output_type": "display_data"
    }
   ],
   "source": [
    "plt.plot([0,1],[0,1],label='slope 1',color='k')\n",
    "plt.scatter(G_cat['peak'],phot,label='N',alpha=0.5)\n",
    "plt.scatter(G_cat['peak'],phot1,label='M',alpha=0.5)\n",
    "plt.loglog()\n",
    "plt.xlim(0.001,2)\n",
    "plt.ylim(0.0001,100)\n",
    "plt.ylabel('photometry on mine')\n",
    "plt.xlabel('G2018 flux')"
   ]
  },
  {
   "cell_type": "code",
   "execution_count": null,
   "id": "ee9b6a88-f394-4bbe-a11f-f986cb49d7b7",
   "metadata": {},
   "outputs": [],
   "source": []
  },
  {
   "cell_type": "code",
   "execution_count": null,
   "id": "f3f0c152-7954-4e53-ab9d-d2ae35b22290",
   "metadata": {},
   "outputs": [],
   "source": []
  },
  {
   "cell_type": "markdown",
   "id": "9fb25d3a-7566-40ce-86ac-b68233c953e5",
   "metadata": {},
   "source": [
    "# Find out how many sources in M, N in each catalogs"
   ]
  },
  {
   "cell_type": "markdown",
   "id": "138f0a3a-f599-47fb-aff8-90405b3a4190",
   "metadata": {},
   "source": [
    "Use the regions package to find out how many sources are in each footprint\n",
    "\n",
    "Because there's overlap, there is double-counting..."
   ]
  },
  {
   "cell_type": "code",
   "execution_count": 52,
   "id": "6d4c8f00-8432-4f68-b46e-7dd12ce2e969",
   "metadata": {},
   "outputs": [
    {
     "data": {
      "text/plain": [
       "array([266.83405975, -28.38466334])"
      ]
     },
     "execution_count": 52,
     "metadata": {},
     "output_type": "execute_result"
    }
   ],
   "source": [
    "wcs1.wcs.crval"
   ]
  },
  {
   "cell_type": "code",
   "execution_count": 63,
   "id": "c44b3938-f14e-4f21-ba2c-d629e6c3f739",
   "metadata": {},
   "outputs": [],
   "source": [
    "import regions\n",
    "mreg = regions.CircleSkyRegion(SkyCoord(*wcs1.wcs.crval, unit=(u.deg,u.deg), frame='icrs'), radius=35*u.arcsec)\n",
    "nreg = regions.CircleSkyRegion(SkyCoord(*wcs.wcs.crval, unit=(u.deg,u.deg), frame='icrs'), radius=35*u.arcsec)"
   ]
  },
  {
   "cell_type": "markdown",
   "id": "939873cf-dee0-4ae7-a900-d90af6862f8b",
   "metadata": {},
   "source": [
    "we use the WCS associated with Sgr B2 M here - but technically it would be better to use the G18 WCS for the G18 positions.\n",
    "\n",
    "However, this doesn't matter b/c reginos is just using the WCS to convert the sky coordinates (the region) to pixel coordinates to check whether the coordinates are contained within.  This is a limitation of the regions concept..."
   ]
  },
  {
   "cell_type": "code",
   "execution_count": 64,
   "id": "8e9fc24a-defa-418d-ac5e-c22fbd8558da",
   "metadata": {},
   "outputs": [
    {
     "data": {
      "text/plain": [
       "49"
      ]
     },
     "execution_count": 64,
     "metadata": {},
     "output_type": "execute_result"
    }
   ],
   "source": [
    "mreg.contains(positions, wcs=wcs1).sum()"
   ]
  },
  {
   "cell_type": "code",
   "execution_count": 65,
   "id": "22f5e8b0-3264-42ea-b384-8ab4f85b0fb0",
   "metadata": {},
   "outputs": [
    {
     "data": {
      "text/plain": [
       "26"
      ]
     },
     "execution_count": 65,
     "metadata": {},
     "output_type": "execute_result"
    }
   ],
   "source": [
    "nreg.contains(positions, wcs=wcs).sum()"
   ]
  },
  {
   "cell_type": "code",
   "execution_count": 66,
   "id": "577386ac-b638-4a88-827e-01e8f9bc7434",
   "metadata": {},
   "outputs": [
    {
     "data": {
      "text/plain": [
       "209"
      ]
     },
     "execution_count": 66,
     "metadata": {},
     "output_type": "execute_result"
    }
   ],
   "source": [
    "positions_NB_B3 = SkyCoord(catB3['x_cen'], catB3['y_cen'], unit=(u.deg,u.deg), frame='icrs')\n",
    "nreg.contains(positions_NB_B3, wcs=wcs).sum()"
   ]
  },
  {
   "cell_type": "code",
   "execution_count": 67,
   "id": "35742eaf-6570-4a0a-a6b0-2ec861c5aa4b",
   "metadata": {},
   "outputs": [
    {
     "data": {
      "text/plain": [
       "169"
      ]
     },
     "execution_count": 67,
     "metadata": {},
     "output_type": "execute_result"
    }
   ],
   "source": [
    "mreg.contains(positions_NB_B3, wcs=wcs1).sum()"
   ]
  },
  {
   "cell_type": "markdown",
   "id": "56ebbb02-7051-43dd-960a-75b41b221369",
   "metadata": {},
   "source": [
    "## Handle double-counting"
   ]
  },
  {
   "cell_type": "code",
   "execution_count": 68,
   "id": "b8572f56-58dc-48e7-b1f3-ae3b762529a4",
   "metadata": {},
   "outputs": [],
   "source": [
    "n_or_m = mreg | nreg"
   ]
  },
  {
   "cell_type": "markdown",
   "id": "8c21de63-acac-434a-8232-bc2ce2ca2f5b",
   "metadata": {},
   "source": [
    "In principle, all sources should be in one or the other:"
   ]
  },
  {
   "cell_type": "code",
   "execution_count": 69,
   "id": "f78a513a-d5ee-45af-bf05-4e319701f0f4",
   "metadata": {},
   "outputs": [
    {
     "data": {
      "text/plain": [
       "350"
      ]
     },
     "execution_count": 69,
     "metadata": {},
     "output_type": "execute_result"
    }
   ],
   "source": [
    "n_or_m.contains(positions_NB_B3, wcs=wcs).sum()"
   ]
  },
  {
   "cell_type": "code",
   "execution_count": 70,
   "id": "27cce985-66d8-4d46-ad5b-4ec71c45f88c",
   "metadata": {},
   "outputs": [
    {
     "data": {
      "text/plain": [
       "411"
      ]
     },
     "execution_count": 70,
     "metadata": {},
     "output_type": "execute_result"
    }
   ],
   "source": [
    "len(positions_NB_B3)"
   ]
  },
  {
   "cell_type": "code",
   "execution_count": 73,
   "id": "163973c8-8e9e-45a7-bd4a-b71be36ea32f",
   "metadata": {},
   "outputs": [
    {
     "data": {
      "text/plain": [
       "69"
      ]
     },
     "execution_count": 73,
     "metadata": {},
     "output_type": "execute_result"
    }
   ],
   "source": [
    "n_or_m.contains(positions, wcs=wcs).sum()"
   ]
  },
  {
   "cell_type": "markdown",
   "id": "170dc65d-4ac5-451d-99fa-b7f3dffe8507",
   "metadata": {},
   "source": [
    "So, 69 -> 350 total"
   ]
  },
  {
   "cell_type": "markdown",
   "id": "009875e8-0301-40ec-83a3-fda5013f375f",
   "metadata": {},
   "source": [
    "There are about 60 sources outside of the 30\" radius.  That's hopefully because you imaged past 30\"..."
   ]
  },
  {
   "cell_type": "code",
   "execution_count": 71,
   "id": "c0cfdaa5-540e-47b3-8065-2af92a7bb53e",
   "metadata": {},
   "outputs": [
    {
     "data": {
      "text/plain": [
       "<matplotlib.collections.PathCollection at 0x2adfd4b33310>"
      ]
     },
     "execution_count": 71,
     "metadata": {},
     "output_type": "execute_result"
    },
    {
     "data": {
      "image/png": "[encoded data removed]",
      "text/plain": [
       "<Figure size 432x288 with 1 Axes>"
      ]
     },
     "metadata": {
      "needs_background": "light"
     },
     "output_type": "display_data"
    }
   ],
   "source": [
    "x = catB3[~n_or_m.contains(positions_NB_B3, wcs=wcs)]\n",
    "y = catB3[n_or_m.contains(positions_NB_B3, wcs=wcs)]\n",
    "\n",
    "plt.scatter(x['x_cen'], x['y_cen'])\n",
    "plt.scatter(y['x_cen'], y['y_cen'])"
   ]
  },
  {
   "cell_type": "code",
   "execution_count": null,
   "id": "51be8f1a-1f05-4efe-8b40-c97943f7768f",
   "metadata": {},
   "outputs": [],
   "source": []
  }
 ],
 "metadata": {
  "kernelspec": {
   "display_name": "Py 3.9",
   "language": "python",
   "name": "python39"
  },
  "language_info": {
   "codemirror_mode": {
    "name": "ipython",
    "version": 3
   },
   "file_extension": ".py",
   "mimetype": "text/x-python",
   "name": "python",
   "nbconvert_exporter": "python",
   "pygments_lexer": "ipython3",
   "version": "3.9.7"
  }
 },
 "nbformat": 4,
 "nbformat_minor": 5
}
